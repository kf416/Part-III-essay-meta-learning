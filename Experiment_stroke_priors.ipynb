{
 "cells": [
  {
   "cell_type": "code",
   "execution_count": 27,
   "metadata": {},
   "outputs": [
    {
     "name": "stderr",
     "output_type": "stream",
     "text": [
      "2023-04-22 16:32:20.921311: I tensorflow/core/platform/cpu_feature_guard.cc:182] This TensorFlow binary is optimized to use available CPU instructions in performance-critical operations.\n",
      "To enable the following instructions: AVX2 FMA, in other operations, rebuild TensorFlow with the appropriate compiler flags.\n"
     ]
    }
   ],
   "source": [
    "import numpy as np\n",
    "import tensorflow as tf"
   ]
  },
  {
   "cell_type": "markdown",
   "metadata": {},
   "source": [
    "transformers can do bayesian inference paper"
   ]
  },
  {
   "cell_type": "code",
   "execution_count": 33,
   "metadata": {},
   "outputs": [],
   "source": [
    "import random\n",
    "import math\n",
    "from PIL import Image, ImageDraw, ImageFilter"
   ]
  },
  {
   "cell_type": "code",
   "execution_count": 34,
   "metadata": {},
   "outputs": [],
   "source": [
    "def pencil_stroke_prior(num_classes=2, size=28, min_max_strokes=(1,3), \n",
    "                        min_max_len =(5/28 ,20/28) , min_max_start =(2/28 ,25/28),\n",
    "                        min_max_width=(1/28,4/28),max_offset=4/28, \n",
    "                        max_target_offset=2/28):\n",
    "    classes = []\n",
    "\n",
    "    for i in range ( num_classes ):\n",
    "        num_strokes = random.randint (* min_max_strokes ) \n",
    "        len_strokes = [random.randint(int(size * min_max_len[0]),\n",
    "                                      int ( size * min_max_len [1])) for i in range ( num_strokes )] \n",
    "        stroke_start_points = [\n",
    "            (random.randint(int(size * min_max_start[0]), int(size * min_max_start[1])), random.randint(int(size * min_max_start[0]), int(size * min_max_start[1]))) for i in\n",
    "            range(num_strokes)]\n",
    "        stroke_directions = []\n",
    "        for i in range(num_strokes):\n",
    "            sp, length = stroke_start_points[i], len_strokes[i]\n",
    "            counter = 0\n",
    "            while True:\n",
    "                if counter % 3 == 0:\n",
    "                    length = random.randint(int(size * min_max_len[0]), int(size * min_max_len[1]))\n",
    "                    sp = (\n",
    "                    random.randint(int(size * min_max_start[0]), int(size * min_max_start[1])), random.randint(int(size * min_max_start[0]), int(size * min_max_start[1])))\n",
    "                    stroke_start_points[i], len_strokes[i] = sp, length\n",
    "                radians = random.random() * 2 * math.pi\n",
    "                x_vel = math.cos(radians) * length\n",
    "                y_vel = math.sin(radians) * length\n",
    "                new_p = (sp[0] + x_vel, sp[1] + y_vel)\n",
    "                # print(math.degrees(radians),sp,new_p)\n",
    "                if not any(n > size - 1 or n < 0 for n in new_p):\n",
    "                    break\n",
    "                counter += 1\n",
    "            stroke_directions.append(radians)\n",
    "            # print([round(x) for x in sp+new_p])\n",
    "            # draw.line([round(x) for x in sp+new_p], fill=128, width=3)\n",
    "        classes.append((len_strokes, stroke_start_points, stroke_directions))\n",
    "        \n",
    "    generator_functions = []\n",
    "    for c in classes:\n",
    "        def g(c=c):\n",
    "            len_strokes, stroke_start_points, stroke_directions = c\n",
    "            i = Image.fromarray(np.zeros((size, size), dtype=np.uint8))\n",
    "            draw = ImageDraw.Draw(i)\n",
    "            width = random.randint(int(size * min_max_width[0]), int(size * min_max_width[1]))\n",
    "            offset = random.randint(int(-size * max_offset), int(size * max_offset)), random.randint(int(- size * max_offset), int(size * max_offset))\n",
    "            for sp, length, radians in zip(stroke_start_points, len_strokes, stroke_directions):\n",
    "                sp = (sp[0] + offset[0], sp[1] + offset[1])\n",
    "                x_vel = math.cos(radians) * length + random.randint(int(-size * max_target_offset), int(size * max_target_offset))\n",
    "                y_vel = math.sin(radians) * length + random.randint(int(-size * max_target_offset), int(size * max_target_offset))\n",
    "                new_p = (sp[0] + x_vel, sp[1] + y_vel)\n",
    "                stroke_directions.append(radians)\n",
    "                draw.line([round(x) for x in sp + new_p], fill=128, width=width)\n",
    "            a_i = np.array(i)\n",
    "            a_i[a_i == 128] = np.random.randint(200, 255, size=a_i.shape)[a_i == 128]\n",
    "            return Image.fromarray(a_i).filter(ImageFilter.GaussianBlur(.2))\n",
    "\n",
    "        generator_functions.append(g)\n",
    "        \n",
    "    return generator_functions"
   ]
  },
  {
   "cell_type": "code",
   "execution_count": 30,
   "metadata": {},
   "outputs": [
    {
     "data": {
      "text/plain": [
       "[<function __main__.pencil_stroke_prior.<locals>.g(c=([6], [(22, 16)], [2.272083513864907]))>,\n",
       " <function __main__.pencil_stroke_prior.<locals>.g(c=([5, 13, 16], [(4, 23), (10, 18), (20, 12)], [0.2545521205068265, 6.197933196179025, 2.7879733122803136]))>]"
      ]
     },
     "execution_count": 30,
     "metadata": {},
     "output_type": "execute_result"
    }
   ],
   "source": [
    "pencil_stroke_prior(num_classes=2, size=28, min_max_strokes=(1,3), \n",
    "                        min_max_len =(5/28 ,20/28) , min_max_start =(2/28 ,25/28),\n",
    "                        min_max_width=(1/28,4/28),max_offset=4/28, \n",
    "                        max_target_offset=2/28)"
   ]
  },
  {
   "cell_type": "code",
   "execution_count": 38,
   "metadata": {},
   "outputs": [
    {
     "data": {
      "image/png": "[encoded data removed]",
      "text/plain": [
       "<Figure size 1000x1000 with 25 Axes>"
      ]
     },
     "metadata": {},
     "output_type": "display_data"
    }
   ],
   "source": [
    "num_classes = 5\n",
    "num_samples=5\n",
    "\n",
    "fig, axs = plt.subplots(num_classes, num_samples, figsize=(10, 10))\n",
    "\n",
    "generator_functions= pencil_stroke_prior(num_classes, size=28, min_max_strokes=(1,3), \n",
    "                        min_max_len =(5/28 ,20/28) , min_max_start =(2/28 ,25/28),\n",
    "                        min_max_width=(1/28,4/28),max_offset=4/28, \n",
    "                        max_target_offset=2/28)\n",
    "\n",
    "for i in range(num_classes):\n",
    "    for j in range(num_samples):\n",
    "        axs[i, j].imshow(generator_functions[i](), cmap='gray')\n",
    "        axs[i, j].axis('off')\n",
    "\n",
    "plt.tight_layout()\n",
    "plt.show()"
   ]
  }
 ],
 "metadata": {
  "kernelspec": {
   "display_name": "exp_PACOH_NN",
   "language": "python",
   "name": "exp_pacoh_nn"
  },
  "language_info": {
   "codemirror_mode": {
    "name": "ipython",
    "version": 3
   },
   "file_extension": ".py",
   "mimetype": "text/x-python",
   "name": "python",
   "nbconvert_exporter": "python",
   "pygments_lexer": "ipython3",
   "version": "3.8.3"
  }
 },
 "nbformat": 4,
 "nbformat_minor": 1
}
